{
	"metadata": {
		"kernelspec": {
			"name": "glue_pyspark",
			"display_name": "Glue PySpark",
			"language": "python"
		},
		"language_info": {
			"name": "Python_Glue_Session",
			"mimetype": "text/x-python",
			"codemirror_mode": {
				"name": "python",
				"version": 3
			},
			"pygments_lexer": "python3",
			"file_extension": ".py"
		}
	},
	"nbformat_minor": 4,
	"nbformat": 4,
	"cells": [
		{
			"cell_type": "markdown",
			"source": "\n# Glue Studio Notebook\nYou are now running a **Glue Studio** notebook; before you can start using your notebook you *must* start an interactive session.\n\n## Available Magics\n|          Magic              |   Type       |                                                                        Description                                                                        |\n|-----------------------------|--------------|-----------------------------------------------------------------------------------------------------------------------------------------------------------|\n| %%configure                 |  Dictionary  |  A json-formatted dictionary consisting of all configuration parameters for a session. Each parameter can be specified here or through individual magics. |\n| %profile                    |  String      |  Specify a profile in your aws configuration to use as the credentials provider.                                                                          |\n| %iam_role                   |  String      |  Specify an IAM role to execute your session with.                                                                                                        |\n| %region                     |  String      |  Specify the AWS region in which to initialize a session.                                                                                                 |\n| %session_id                 |  String      |  Returns the session ID for the running session.                                                                                                          |\n| %connections                |  List        |  Specify a comma separated list of connections to use in the session.                                                                                     |\n| %additional_python_modules  |  List        |  Comma separated list of pip packages, s3 paths or private pip arguments.                                                                                 |\n| %extra_py_files             |  List        |  Comma separated list of additional Python files from S3.                                                                                                 |\n| %extra_jars                 |  List        |  Comma separated list of additional Jars to include in the cluster.                                                                                       |\n| %number_of_workers          |  Integer     |  The number of workers of a defined worker_type that are allocated when a job runs. worker_type must be set too.                                          |\n| %glue_version               |  String      |  The version of Glue to be used by this session. Currently, the only valid options are 2.0 and 3.0 (eg: %glue_version 2.0).                               |\n| %security_config            |  String      |  Define a security configuration to be used with this session.                                                                                            |\n| %sql                        |  String      |  Run SQL code. All lines after the initial %%sql magic will be passed as part of the SQL code.                                                            |\n| %streaming                  |  String      |  Changes the session type to Glue Streaming.                                                                                                              |\n| %etl                        |  String      |  Changes the session type to Glue ETL.                                                                                                                    |\n| %status                     |              |  Returns the status of the current Glue session including its duration, configuration and executing user / role.                                          |\n| %stop_session               |              |  Stops the current session.                                                                                                                               |\n| %list_sessions              |              |  Lists all currently running sessions by name and ID.                                                                                                     |\n| %worker_type                |  String      |  Standard, G.1X, *or* G.2X. number_of_workers must be set too. Default is G.1X.                                                                           |\n| %spark_conf                 |  String      |  Specify custom spark configurations for your session. E.g. %spark_conf spark.serializer=org.apache.spark.serializer.KryoSerializer.                      |",
			"metadata": {
				"editable": false,
				"deletable": false,
				"trusted": true
			}
		},
		{
			"cell_type": "code",
			"source": "import sys\nfrom awsglue.transforms import *\nfrom awsglue.utils import getResolvedOptions\nfrom pyspark.context import SparkContext\nfrom awsglue.context import GlueContext\nfrom awsglue.job import Job\nfrom awsglue.dynamicframe import DynamicFrame\n\nsc = SparkContext.getOrCreate()\nglueContext = GlueContext(sc)\nspark = glueContext.spark_session\njob = Job(glueContext)",
			"metadata": {
				"editable": true,
				"trusted": true
			},
			"execution_count": 1,
			"outputs": [
				{
					"name": "stdout",
					"text": "Welcome to the Glue Interactive Sessions Kernel\nFor more information on available magic commands, please type %help in any new cell.\n\nPlease view our Getting Started page to access the most up-to-date information on the Interactive Sessions kernel: https://docs.aws.amazon.com/glue/latest/dg/interactive-sessions.html\nInstalled kernel version: 0.37.0 \nAuthenticating with environment variables and user-defined glue_role_arn: arn:aws:iam::162504240738:role/AWSGlueServiceNotebookRoleDefault\nTrying to create a Glue session for the kernel.\nWorker Type: G.1X\nNumber of Workers: 5\nSession ID: 50c92d9f-12b1-4354-a240-075197383039\nJob Type: glueetl\nApplying the following default arguments:\n--glue_kernel_version 0.37.0\n--enable-glue-datacatalog true\nWaiting for session 50c92d9f-12b1-4354-a240-075197383039 to get into ready status...\nSession 50c92d9f-12b1-4354-a240-075197383039 has been created.\n\n",
					"output_type": "stream"
				}
			]
		},
		{
			"cell_type": "code",
			"source": "university_ranking_source = glueContext.create_dynamic_frame.from_catalog(\n    database=\"learn_by_doing\",\n    table_name=\"university_ranking_csv\",\n    transformation_ctx=\"UniversityRanking_Source\",\n)",
			"metadata": {
				"trusted": true
			},
			"execution_count": 2,
			"outputs": [
				{
					"name": "stdout",
					"text": "\n",
					"output_type": "stream"
				}
			]
		},
		{
			"cell_type": "code",
			"source": "university_ranking_source.show(5)",
			"metadata": {
				"trusted": true
			},
			"execution_count": 4,
			"outputs": [
				{
					"name": "stdout",
					"text": "{\"university\": \"Massachusetts Institute of Technology (MIT) \", \"year\": \"2017\", \"rank_display\": \"1\", \"score\": \"100.0\", \"link\": \"https://www.topuniversities.com/universities/massachusetts-institute-technology-mit\", \"country\": \"United States\", \"city\": \"Cambridge\", \"region\": \"North America\", \"logo\": \"https://www.topuniversities.com/sites/default/files/massachusetts-institute-of-technology-mit_410_small.jpg\", \"type\": \"Private\", \"research_output\": \"Very High\", \"student_faculty_ratio\": \"4.0\", \"international_students\": \"3,730\", \"size\": \"M\", \"faculty_count\": \"3,065\"}\n{\"university\": \"Stanford University\", \"year\": \"2017\", \"rank_display\": \"2\", \"score\": \"98.7\", \"link\": \"https://www.topuniversities.com/universities/stanford-university\", \"country\": \"United States\", \"city\": \"Stanford\", \"region\": \"North America\", \"logo\": \"https://www.topuniversities.com/sites/default/files/stanford-university_573_small.jpg\", \"type\": \"Private\", \"research_output\": \"Very High\", \"student_faculty_ratio\": \"3.0\", \"international_students\": \"3,879\", \"size\": \"L\", \"faculty_count\": \"4,725\"}\n{\"university\": \"Harvard University\", \"year\": \"2017\", \"rank_display\": \"3\", \"score\": \"98.3\", \"link\": \"https://www.topuniversities.com/universities/harvard-university\", \"country\": \"United States\", \"city\": \"Cambridge\", \"region\": \"North America\", \"logo\": \"https://www.topuniversities.com/sites/default/files/harvard-university_253_small.jpg\", \"type\": \"Private\", \"research_output\": \"Very High\", \"student_faculty_ratio\": \"5.0\", \"international_students\": \"5,877\", \"size\": \"L\", \"faculty_count\": \"4,646\"}\n{\"university\": \"University of Cambridge\", \"year\": \"2017\", \"rank_display\": \"4\", \"score\": \"97.2\", \"link\": \"https://www.topuniversities.com/universities/university-cambridge\", \"country\": \"United Kingdom\", \"city\": \"Cambridge\", \"region\": \"Europe\", \"logo\": \"https://www.topuniversities.com/sites/default/files/university-of-cambridge_95_small.jpg\", \"type\": \"Public\", \"research_output\": \"Very high\", \"student_faculty_ratio\": \"4.0\", \"international_students\": \"7,925\", \"size\": \"L\", \"faculty_count\": \"5,800\"}\n{\"university\": \"California Institute of Technology (Caltech)\", \"year\": \"2017\", \"rank_display\": \"5\", \"score\": \"96.9\", \"link\": \"https://www.topuniversities.com/universities/california-institute-technology-caltech\", \"country\": \"United States\", \"city\": \"Pasadena\", \"region\": \"North America\", \"logo\": \"https://www.topuniversities.com/sites/default/files/california-institute-of-technology-caltech_94_small.jpg\", \"type\": \"Private\", \"research_output\": \"Very High\", \"student_faculty_ratio\": \"2.0\", \"international_students\": \"692\", \"size\": \"S\", \"faculty_count\": \"968\"}\n{\"university\": \"University of Oxford\", \"year\": \"2017\", \"rank_display\": \"6\", \"score\": \"96.8\", \"link\": \"https://www.topuniversities.com/universities/university-oxford\", \"country\": \"United Kingdom\", \"city\": \"Oxford\", \"region\": \"Europe\", \"logo\": \"https://www.topuniversities.com/sites/default/files/university-of-oxford_478_small.jpg\", \"type\": \"Public\", \"research_output\": \"Very High\", \"student_faculty_ratio\": \"3.0\", \"international_students\": \"8,442\", \"size\": \"L\", \"faculty_count\": \"6,708\"}\n{\"university\": \"UCL\", \"year\": \"2017\", \"rank_display\": \"7\", \"score\": \"95.6\", \"link\": \"https://www.topuniversities.com/universities/ucl\", \"country\": \"United Kingdom\", \"city\": \"London\", \"region\": \"Europe\", \"logo\": \"https://www.topuniversities.com/sites/default/files/ucl_592560cf2aeae70239af4bf1_small.jpg\", \"type\": \"Public\", \"research_output\": \"Very High\", \"student_faculty_ratio\": \"5.0\", \"international_students\": \"21,824\", \"size\": \"XL\", \"faculty_count\": \"7,195\"}\n{\"university\": \"ETH Zurich - Swiss Federal Institute of Technology\", \"year\": \"2017\", \"rank_display\": \"8\", \"score\": \"94.2\", \"link\": \"https://www.topuniversities.com/universities/eth-zurich-swiss-federal-institute-technology\", \"country\": \"Switzerland\", \"city\": \"Zürich\", \"region\": \"Europe\", \"logo\": \"https://www.topuniversities.com/sites/default/files/eth-zurich-swiss-federal-institute-of-technology_201_small.jpg\", \"type\": \"Public\", \"research_output\": \"Very High\", \"student_faculty_ratio\": \"7.0\", \"international_students\": \"7,733\", \"size\": \"L\", \"faculty_count\": \"2,719\"}\n{\"university\": \"Imperial College London\", \"year\": \"2017\", \"rank_display\": \"9\", \"score\": \"94.1\", \"link\": \"https://www.topuniversities.com/universities/imperial-college-london\", \"country\": \"United Kingdom\", \"city\": \"London\", \"region\": \"Europe\", \"logo\": \"https://www.topuniversities.com/sites/default/files/imperial-college-london_592560cf2aeae70239af4be8_small.jpg\", \"type\": \"Public\", \"research_output\": \"Very High\", \"student_faculty_ratio\": \"5.0\", \"international_students\": \"11,143\", \"size\": \"L\", \"faculty_count\": \"8,000\"}\n{\"university\": \"University of Chicago\", \"year\": \"2017\", \"rank_display\": \"10\", \"score\": \"93.0\", \"link\": \"https://www.topuniversities.com/universities/university-chicago\", \"country\": \"United States\", \"city\": \"Chicago\", \"region\": \"North America\", \"logo\": \"https://www.topuniversities.com/sites/default/files/university-of-chicago_120_small.jpg\", \"type\": \"Private\", \"research_output\": \"Very High\", \"student_faculty_ratio\": \"6.0\", \"international_students\": \"4,696\", \"size\": \"L\", \"faculty_count\": \"2,703\"}\n{\"university\": \"Princeton University\", \"year\": \"2017\", \"rank_display\": \"11\", \"score\": \"92.8\", \"link\": \"https://www.topuniversities.com/universities/princeton-university\", \"country\": \"United States\", \"city\": \"Princeton\", \"region\": \"North America\", \"logo\": \"https://www.topuniversities.com/sites/default/files/princeton-university_508_small.jpg\", \"type\": \"Private\", \"research_output\": \"Very High\", \"student_faculty_ratio\": \"8.0\", \"international_students\": \"1,912\", \"size\": \"M\", \"faculty_count\": \"1,050\"}\n{\"university\": \"National University of Singapore (NUS)\", \"year\": \"2017\", \"rank_display\": \"12\", \"score\": \"91.5\", \"link\": \"https://www.topuniversities.com/universities/national-university-singapore-nus\", \"country\": \"Singapore\", \"city\": \"Singapore\", \"region\": \"Asia\", \"logo\": \"https://www.topuniversities.com/sites/default/files/national-university-of-singapore-nus_443_small.jpg\", \"type\": \"Public\", \"research_output\": \"Very High\", \"student_faculty_ratio\": \"7.0\", \"international_students\": \"7,551\", \"size\": \"XL\", \"faculty_count\": \"4,288\"}\n{\"university\": \"Nanyang Technological University, Singapore (NTU)\", \"year\": \"2017\", \"rank_display\": \"13\", \"score\": \"91.4\", \"link\": \"https://www.topuniversities.com/universities/nanyang-technological-university-singapore-ntu\", \"country\": \"Singapore\", \"city\": \"Singapore\", \"region\": \"Asia\", \"logo\": \"https://www.topuniversities.com/sites/default/files/nanyang-technological-university-singapore-ntu_592560cf2aeae70239af4c32_small.jpg\", \"type\": \"Public\", \"research_output\": \"Very High\", \"student_faculty_ratio\": \"6.0\", \"international_students\": \"6,091\", \"size\": \"L\", \"faculty_count\": \"3,812\"}\n{\"university\": \"EPFL\", \"year\": \"2017\", \"rank_display\": \"14\", \"score\": \"91.1\", \"link\": \"https://www.topuniversities.com/universities/epfl\", \"country\": \"Switzerland\", \"city\": \"Lausanne\", \"region\": \"Europe\", \"logo\": \"https://www.topuniversities.com/sites/default/files/epfl-ecole-polytechnique-federale-de-lausanne_592560cf2aeae70239af4b34_small.jpg\", \"type\": \"Public\", \"research_output\": \"Very High\", \"student_faculty_ratio\": \"6.0\", \"international_students\": \"6,426\", \"size\": \"M\", \"faculty_count\": \"1,767\"}\n{\"university\": \"Yale University\", \"year\": \"2017\", \"rank_display\": \"15\", \"score\": \"90.9\", \"link\": \"https://www.topuniversities.com/universities/yale-university\", \"country\": \"United States\", \"city\": \"New Haven\", \"region\": \"North America\", \"logo\": \"https://www.topuniversities.com/sites/default/files/yale-university_684_small.jpg\", \"type\": \"Private\", \"research_output\": \"Very High\", \"student_faculty_ratio\": \"2.0\", \"international_students\": \"2,537\", \"size\": \"M\", \"faculty_count\": \"5,391\"}\n{\"university\": \"Cornell University\", \"year\": \"2017\", \"rank_display\": \"16\", \"score\": \"90.1\", \"link\": \"https://www.topuniversities.com/universities/cornell-university\", \"country\": \"United States\", \"city\": \"Ithaca\", \"region\": \"North America\", \"logo\": \"https://www.topuniversities.com/sites/default/files/cornell-university_143_small.jpg\", \"type\": \"Private\", \"research_output\": \"Very High\", \"student_faculty_ratio\": \"8.0\", \"international_students\": \"5,675\", \"size\": \"L\", \"faculty_count\": \"2,843\"}\n{\"university\": \"Johns Hopkins University\", \"year\": \"2017\", \"rank_display\": \"17\", \"score\": \"89.3\", \"link\": \"https://www.topuniversities.com/universities/johns-hopkins-university\", \"country\": \"United States\", \"city\": \"Baltimore\", \"region\": \"North America\", \"logo\": \"https://www.topuniversities.com/sites/default/files/johns-hopkins-university_305_small.jpg\", \"type\": \"Private\", \"research_output\": \"Very High\", \"student_faculty_ratio\": \"3.0\", \"international_students\": \"5,070\", \"size\": \"L\", \"faculty_count\": \"4,855\"}\n{\"university\": \"University of Pennsylvania\", \"year\": \"2017\", \"rank_display\": \"18\", \"score\": \"89.0\", \"link\": \"https://www.topuniversities.com/universities/university-pennsylvania\", \"country\": \"United States\", \"city\": \"Philadelphia\", \"region\": \"North America\", \"logo\": \"https://www.topuniversities.com/sites/default/files/university-of-pennsylvania_495_small.jpg\", \"type\": \"Private\", \"research_output\": \"Very High\", \"student_faculty_ratio\": \"4.0\", \"international_students\": \"4,636\", \"size\": \"L\", \"faculty_count\": \"5,154\"}\n{\"university\": \"The University of Edinburgh\", \"year\": \"2017\", \"rank_display\": \"19\", \"score\": \"88.9\", \"link\": \"https://www.topuniversities.com/universities/university-edinburgh\", \"country\": \"United Kingdom\", \"city\": \"Edinburgh\", \"region\": \"Europe\", \"logo\": \"https://www.topuniversities.com/sites/default/files/the-university-of-edinburgh_180_small.jpg\", \"type\": \"Public\", \"research_output\": \"Very High\", \"student_faculty_ratio\": \"7.0\", \"international_students\": \"14,637\", \"size\": \"XL\", \"faculty_count\": \"4,832\"}\n{\"university\": \"Columbia University\", \"year\": \"2017\", \"rank_display\": \"20\", \"score\": \"88.6\", \"link\": \"https://www.topuniversities.com/universities/columbia-university\", \"country\": \"United States\", \"city\": \"New York City\", \"region\": \"North America\", \"logo\": \"https://www.topuniversities.com/sites/default/files/columbia-university_138_small.jpg\", \"type\": \"Private\", \"research_output\": \"Very High\", \"student_faculty_ratio\": \"4.0\", \"international_students\": \"11,252\", \"size\": \"L\", \"faculty_count\": \"7,087\"}\n",
					"output_type": "stream"
				}
			]
		},
		{
			"cell_type": "code",
			"source": "rankings_df = university_ranking_source.toDF()",
			"metadata": {
				"trusted": true
			},
			"execution_count": 5,
			"outputs": [
				{
					"name": "stdout",
					"text": "\n",
					"output_type": "stream"
				}
			]
		},
		{
			"cell_type": "code",
			"source": "rankings_df.show(5)",
			"metadata": {
				"trusted": true
			},
			"execution_count": 6,
			"outputs": [
				{
					"name": "stdout",
					"text": "+--------------------+----+------------+-----+--------------------+--------------+---------+-------------+--------------------+-------+---------------+---------------------+----------------------+----+-------------+\n|          university|year|rank_display|score|                link|       country|     city|       region|                logo|   type|research_output|student_faculty_ratio|international_students|size|faculty_count|\n+--------------------+----+------------+-----+--------------------+--------------+---------+-------------+--------------------+-------+---------------+---------------------+----------------------+----+-------------+\n|Massachusetts Ins...|2017|           1|100.0|https://www.topun...| United States|Cambridge|North America|https://www.topun...|Private|      Very High|                  4.0|                 3,730|   M|        3,065|\n| Stanford University|2017|           2| 98.7|https://www.topun...| United States| Stanford|North America|https://www.topun...|Private|      Very High|                  3.0|                 3,879|   L|        4,725|\n|  Harvard University|2017|           3| 98.3|https://www.topun...| United States|Cambridge|North America|https://www.topun...|Private|      Very High|                  5.0|                 5,877|   L|        4,646|\n|University of Cam...|2017|           4| 97.2|https://www.topun...|United Kingdom|Cambridge|       Europe|https://www.topun...| Public|      Very high|                  4.0|                 7,925|   L|        5,800|\n|California Instit...|2017|           5| 96.9|https://www.topun...| United States| Pasadena|North America|https://www.topun...|Private|      Very High|                  2.0|                   692|   S|          968|\n+--------------------+----+------------+-----+--------------------+--------------+---------+-------------+--------------------+-------+---------------+---------------------+----------------------+----+-------------+\nonly showing top 5 rows\n",
					"output_type": "stream"
				}
			]
		},
		{
			"cell_type": "code",
			"source": "rankings_df.createOrReplaceTempView(\"university_ranking\")",
			"metadata": {
				"trusted": true
			},
			"execution_count": 7,
			"outputs": [
				{
					"name": "stdout",
					"text": "\n",
					"output_type": "stream"
				}
			]
		},
		{
			"cell_type": "code",
			"source": "spark.sql(\"\"\"SELECT university,year,rank_display,region,country FROM university_ranking\"\"\").show(5)",
			"metadata": {
				"trusted": true
			},
			"execution_count": 9,
			"outputs": [
				{
					"name": "stdout",
					"text": "+--------------------+----+------------+-------------+--------------+\n|          university|year|rank_display|       region|       country|\n+--------------------+----+------------+-------------+--------------+\n|Massachusetts Ins...|2017|           1|North America| United States|\n| Stanford University|2017|           2|North America| United States|\n|  Harvard University|2017|           3|North America| United States|\n|University of Cam...|2017|           4|       Europe|United Kingdom|\n|California Instit...|2017|           5|North America| United States|\n+--------------------+----+------------+-------------+--------------+\nonly showing top 5 rows\n",
					"output_type": "stream"
				}
			]
		},
		{
			"cell_type": "code",
			"source": "spark.sql(\"\"\"SELECT university,year,rank_display, int(rank_display) as n_rank,region,country \nFROM university_ranking\"\"\").show(5)",
			"metadata": {
				"trusted": true
			},
			"execution_count": 13,
			"outputs": [
				{
					"name": "stdout",
					"text": "+--------------------+----+------------+------+-------------+--------------+\n|          university|year|rank_display|n_rank|       region|       country|\n+--------------------+----+------------+------+-------------+--------------+\n|Massachusetts Ins...|2017|           1|     1|North America| United States|\n| Stanford University|2017|           2|     2|North America| United States|\n|  Harvard University|2017|           3|     3|North America| United States|\n|University of Cam...|2017|           4|     4|       Europe|United Kingdom|\n|California Instit...|2017|           5|     5|North America| United States|\n+--------------------+----+------------+------+-------------+--------------+\nonly showing top 5 rows\n",
					"output_type": "stream"
				}
			]
		},
		{
			"cell_type": "markdown",
			"source": "## Split the rank_display data and get the first value",
			"metadata": {}
		},
		{
			"cell_type": "code",
			"source": "spark.sql(\"\"\"SELECT university,year,rank_display, int(split(rank_display,'-')[0]) as n_rank,region,country \nFROM university_ranking\nWHERE rank_display like '%-%'\"\"\").show(5)\n",
			"metadata": {
				"trusted": true
			},
			"execution_count": 15,
			"outputs": [
				{
					"name": "stdout",
					"text": "+--------------------+----+------------+------+-------------+--------------------+\n|          university|year|rank_display|n_rank|       region|             country|\n+--------------------+----+------------+------+-------------+--------------------+\n|Bandung Institute...|2017|     401-410|   401|         Asia|           Indonesia|\n| Brandeis University|2017|     401-410|   401|North America|       United States|\n|Illinois Institut...|2017|     401-410|   401|North America|       United States|\n|Johannes Gutenber...|2017|     401-410|   401|       Europe|             Germany|\n|Khalifa Universit...|2017|     401-410|   401|         Asia|United Arab Emirates|\n+--------------------+----+------------+------+-------------+--------------------+\nonly showing top 5 rows\n",
					"output_type": "stream"
				}
			]
		},
		{
			"cell_type": "code",
			"source": "# Works for all rows\nspark.sql(\"\"\"SELECT university,year,rank_display, int(split(rank_display,'-')[0]) as n_rank,region,country \nFROM university_ranking\"\"\").show(5)",
			"metadata": {
				"trusted": true
			},
			"execution_count": 16,
			"outputs": [
				{
					"name": "stdout",
					"text": "+--------------------+----+------------+------+-------------+--------------+\n|          university|year|rank_display|n_rank|       region|       country|\n+--------------------+----+------------+------+-------------+--------------+\n|Massachusetts Ins...|2017|           1|     1|North America| United States|\n| Stanford University|2017|           2|     2|North America| United States|\n|  Harvard University|2017|           3|     3|North America| United States|\n|University of Cam...|2017|           4|     4|       Europe|United Kingdom|\n|California Instit...|2017|           5|     5|North America| United States|\n+--------------------+----+------------+------+-------------+--------------+\nonly showing top 5 rows\n",
					"output_type": "stream"
				}
			]
		},
		{
			"cell_type": "code",
			"source": "spark.sql(\"\"\"SELECT \n    university,\n    coalesce(int(year),9999) as year,\n    rank_display,\n    coalesce(int(split(rank_display,'-')[0]),9999) as n_rank,\n    coalesce(float(score),-1) as score,\n    country, city, region, type,\n    research_output,\n    coalesce(float(student_faculty_ratio),-1) as student_faculty_ratio,\n    coalesce(int(regexp_replace(international_students,'[.,]','')),-1) as international_students,\n    size,\n    coalesce(int(regexp_replace(faculty_count,'[.,]','')),-1) as faculty_count\n    FROM university_ranking\"\"\").show(5)",
			"metadata": {
				"trusted": true
			},
			"execution_count": 19,
			"outputs": [
				{
					"name": "stdout",
					"text": "+--------------------+----+------------+------+-----+--------------+---------+-------------+-------+---------------+---------------------+----------------------+----+-------------+\n|          university|year|rank_display|n_rank|score|       country|     city|       region|   type|research_output|student_faculty_ratio|international_students|size|faculty_count|\n+--------------------+----+------------+------+-----+--------------+---------+-------------+-------+---------------+---------------------+----------------------+----+-------------+\n|Massachusetts Ins...|2017|           1|     1|100.0| United States|Cambridge|North America|Private|      Very High|                  4.0|                  3730|   M|         3065|\n| Stanford University|2017|           2|     2| 98.7| United States| Stanford|North America|Private|      Very High|                  3.0|                  3879|   L|         4725|\n|  Harvard University|2017|           3|     3| 98.3| United States|Cambridge|North America|Private|      Very High|                  5.0|                  5877|   L|         4646|\n|University of Cam...|2017|           4|     4| 97.2|United Kingdom|Cambridge|       Europe| Public|      Very high|                  4.0|                  7925|   L|         5800|\n|California Instit...|2017|           5|     5| 96.9| United States| Pasadena|North America|Private|      Very High|                  2.0|                   692|   S|          968|\n+--------------------+----+------------+------+-----+--------------+---------+-------------+-------+---------------+---------------------+----------------------+----+-------------+\nonly showing top 5 rows\n",
					"output_type": "stream"
				}
			]
		},
		{
			"cell_type": "code",
			"source": "# Let's Store the results data frame\n\nclean_rankings_df = spark.sql(\"\"\"SELECT \n    university,\n    coalesce(int(year),9999) as year,\n    rank_display,\n    coalesce(int(split(rank_display,'-')[0]),9999) as n_rank,\n    coalesce(float(score),-1) as score,\n    country, city, region, type,\n    research_output,\n    coalesce(float(student_faculty_ratio),-1) as student_faculty_ratio,\n    coalesce(int(regexp_replace(international_students,'[.,]','')),-1) as international_students,\n    size,\n    coalesce(int(regexp_replace(faculty_count,'[.,]','')),-1) as faculty_count\n    FROM university_ranking\"\"\")",
			"metadata": {
				"trusted": true
			},
			"execution_count": 20,
			"outputs": [
				{
					"name": "stdout",
					"text": "\n",
					"output_type": "stream"
				}
			]
		},
		{
			"cell_type": "code",
			"source": "# Convert back to DynamicFrame\nclean_dynamic_frame = DynamicFrame.fromDF(clean_rankings_df, glueContext, \"university_ranking_clean\")",
			"metadata": {
				"trusted": true
			},
			"execution_count": 23,
			"outputs": [
				{
					"name": "stdout",
					"text": "\n",
					"output_type": "stream"
				}
			]
		},
		{
			"cell_type": "code",
			"source": "# Store the clean data back to S3\nuniversity_ranking_destn = glueContext.write_dynamic_frame.from_options(\n    frame=clean_dynamic_frame,\n    connection_type=\"s3\",\n    format=\"csv\",\n    connection_options={\n        \"path\": \"s3://aws-glue-chandra-us-east-2/university_ranking/csv_clean\",\n        \"partitionKeys\": [],\n    },\n    transformation_ctx=\"university_ranking_dest\",\n)",
			"metadata": {
				"trusted": true
			},
			"execution_count": 26,
			"outputs": [
				{
					"name": "stdout",
					"text": "\n",
					"output_type": "stream"
				}
			]
		},
		{
			"cell_type": "code",
			"source": "job.commit()",
			"metadata": {
				"trusted": true
			},
			"execution_count": 27,
			"outputs": [
				{
					"name": "stdout",
					"text": "\n",
					"output_type": "stream"
				}
			]
		},
		{
			"cell_type": "code",
			"source": "",
			"metadata": {},
			"execution_count": null,
			"outputs": []
		}
	]
}