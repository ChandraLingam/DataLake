{
 "cells": [
  {
   "cell_type": "markdown",
   "metadata": {},
   "source": [
    "# Customer Review Processing Pipeline with Firehose Data Streams\n",
    "1. Reviews are submitted to Firehose Streams\n",
    "2. Firehose then does data Transformation using Lambda\n",
    "3. Lambda invokes Comprehed to assess sentiment and add sentiment to JSON\n",
    "4. Firehose then collects the transforms records and stores\n",
    "5. With this pipeline, firehose is ready to ingest streaming data continuously and process and send to S3\n",
    "\n",
    "Objective: Use Comprehend Service to detect sentiment\n",
    "\n",
    "Input: Customer Review\n",
    "Output: Overall sentiment and scores for Positive, Negative, Neutral, Mixed  \n",
    "\n",
    "https://docs.aws.amazon.com/comprehend/latest/dg/how-sentiment.html  \n",
    "\n",
    "Dataset and Problem Description:\n",
    "https://s3.amazonaws.com/amazon-reviews-pds/readme.html  \n",
    "https://s3.console.aws.amazon.com/s3/buckets/amazon-reviews-pds/?region=us-east-2  \n",
    "\n",
    "File: s3://amazon-reviews-pds/tsv/amazon_reviews_us_Major_Appliances_v1_00.tsv.gz"
   ]
  },
  {
   "cell_type": "code",
   "execution_count": 1,
   "metadata": {},
   "outputs": [],
   "source": [
    "import numpy as np\n",
    "import pandas as pd\n",
    "import matplotlib.pyplot as plt\n",
    "import re"
   ]
  },
  {
   "cell_type": "markdown",
   "metadata": {},
   "source": [
    "### Customer Reviews for Major Appliances"
   ]
  },
  {
   "cell_type": "code",
   "execution_count": 2,
   "metadata": {},
   "outputs": [
    {
     "name": "stdout",
     "output_type": "stream",
     "text": [
      "download: s3://amazon-reviews-pds/tsv/amazon_reviews_us_Major_Appliances_v1_00.tsv.gz to ./amazon_reviews_us_Major_Appliances_v1_00.tsv.gz\n"
     ]
    }
   ],
   "source": [
    "!aws s3 cp s3://amazon-reviews-pds/tsv/amazon_reviews_us_Major_Appliances_v1_00.tsv.gz ."
   ]
  },
  {
   "cell_type": "markdown",
   "metadata": {},
   "source": [
    "### Prepare Training and Test data "
   ]
  },
  {
   "cell_type": "code",
   "execution_count": 3,
   "metadata": {},
   "outputs": [
    {
     "name": "stderr",
     "output_type": "stream",
     "text": [
      "b'Skipping line 5583: expected 15 fields, saw 22\\nSkipping line 22814: expected 15 fields, saw 22\\nSkipping line 22883: expected 15 fields, saw 22\\nSkipping line 29872: expected 15 fields, saw 22\\nSkipping line 37242: expected 15 fields, saw 22\\nSkipping line 59693: expected 15 fields, saw 22\\n'\n"
     ]
    }
   ],
   "source": [
    "df = pd.read_csv('amazon_reviews_us_Major_Appliances_v1_00.tsv.gz',\n",
    "                 sep='\\t',error_bad_lines=False,warn_bad_lines=True)#,nrows=1000)"
   ]
  },
  {
   "cell_type": "code",
   "execution_count": 4,
   "metadata": {},
   "outputs": [
    {
     "name": "stdout",
     "output_type": "stream",
     "text": [
      "Rows: 96834, Columns: 15\n"
     ]
    }
   ],
   "source": [
    "print('Rows: {0}, Columns: {1}'.format(df.shape[0],df.shape[1]))"
   ]
  },
  {
   "cell_type": "code",
   "execution_count": 5,
   "metadata": {},
   "outputs": [
    {
     "data": {
      "text/html": [
       "<div>\n",
       "<style scoped>\n",
       "    .dataframe tbody tr th:only-of-type {\n",
       "        vertical-align: middle;\n",
       "    }\n",
       "\n",
       "    .dataframe tbody tr th {\n",
       "        vertical-align: top;\n",
       "    }\n",
       "\n",
       "    .dataframe thead th {\n",
       "        text-align: right;\n",
       "    }\n",
       "</style>\n",
       "<table border=\"1\" class=\"dataframe\">\n",
       "  <thead>\n",
       "    <tr style=\"text-align: right;\">\n",
       "      <th></th>\n",
       "      <th>marketplace</th>\n",
       "      <th>customer_id</th>\n",
       "      <th>review_id</th>\n",
       "      <th>product_id</th>\n",
       "      <th>product_parent</th>\n",
       "      <th>product_title</th>\n",
       "      <th>product_category</th>\n",
       "      <th>star_rating</th>\n",
       "      <th>helpful_votes</th>\n",
       "      <th>total_votes</th>\n",
       "      <th>vine</th>\n",
       "      <th>verified_purchase</th>\n",
       "      <th>review_headline</th>\n",
       "      <th>review_body</th>\n",
       "      <th>review_date</th>\n",
       "    </tr>\n",
       "  </thead>\n",
       "  <tbody>\n",
       "    <tr>\n",
       "      <th>0</th>\n",
       "      <td>US</td>\n",
       "      <td>16199106</td>\n",
       "      <td>R203HPW78Z7N4K</td>\n",
       "      <td>B0067WNSZY</td>\n",
       "      <td>633038551</td>\n",
       "      <td>FGGF3032MW Gallery Series 30\" Wide Freestandin...</td>\n",
       "      <td>Major Appliances</td>\n",
       "      <td>5</td>\n",
       "      <td>0</td>\n",
       "      <td>0</td>\n",
       "      <td>N</td>\n",
       "      <td>Y</td>\n",
       "      <td>If you need a new stove, this is a winner.</td>\n",
       "      <td>What a great stove.  What a wonderful replacem...</td>\n",
       "      <td>2015-08-31</td>\n",
       "    </tr>\n",
       "    <tr>\n",
       "      <th>1</th>\n",
       "      <td>US</td>\n",
       "      <td>16374060</td>\n",
       "      <td>R2EAIGVLEALSP3</td>\n",
       "      <td>B002QSXK60</td>\n",
       "      <td>811766671</td>\n",
       "      <td>Best Hand Clothes Wringer</td>\n",
       "      <td>Major Appliances</td>\n",
       "      <td>5</td>\n",
       "      <td>1</td>\n",
       "      <td>1</td>\n",
       "      <td>N</td>\n",
       "      <td>Y</td>\n",
       "      <td>Five Stars</td>\n",
       "      <td>worked great</td>\n",
       "      <td>2015-08-31</td>\n",
       "    </tr>\n",
       "    <tr>\n",
       "      <th>2</th>\n",
       "      <td>US</td>\n",
       "      <td>15322085</td>\n",
       "      <td>R1K1CD73HHLILA</td>\n",
       "      <td>B00EC452R6</td>\n",
       "      <td>345562728</td>\n",
       "      <td>Supco SET184 Thermal Cutoff Kit</td>\n",
       "      <td>Major Appliances</td>\n",
       "      <td>5</td>\n",
       "      <td>0</td>\n",
       "      <td>0</td>\n",
       "      <td>N</td>\n",
       "      <td>Y</td>\n",
       "      <td>Fast Shipping</td>\n",
       "      <td>Part exactly what I needed.  Saved by purchasi...</td>\n",
       "      <td>2015-08-31</td>\n",
       "    </tr>\n",
       "    <tr>\n",
       "      <th>3</th>\n",
       "      <td>US</td>\n",
       "      <td>32004835</td>\n",
       "      <td>R2KZBMOFRMYOPO</td>\n",
       "      <td>B00MVVIF2G</td>\n",
       "      <td>563052763</td>\n",
       "      <td>Midea WHS-160RB1 Compact Single Reversible Doo...</td>\n",
       "      <td>Major Appliances</td>\n",
       "      <td>5</td>\n",
       "      <td>1</td>\n",
       "      <td>1</td>\n",
       "      <td>N</td>\n",
       "      <td>Y</td>\n",
       "      <td>Five Stars</td>\n",
       "      <td>Love my refrigerator! ! Keeps everything  cold...</td>\n",
       "      <td>2015-08-31</td>\n",
       "    </tr>\n",
       "    <tr>\n",
       "      <th>4</th>\n",
       "      <td>US</td>\n",
       "      <td>25414497</td>\n",
       "      <td>R6BIZOZY6UD01</td>\n",
       "      <td>B00IY7BNUW</td>\n",
       "      <td>874236579</td>\n",
       "      <td>Avalon Bay Portable Ice Maker</td>\n",
       "      <td>Major Appliances</td>\n",
       "      <td>5</td>\n",
       "      <td>0</td>\n",
       "      <td>0</td>\n",
       "      <td>N</td>\n",
       "      <td>Y</td>\n",
       "      <td>Five Stars</td>\n",
       "      <td>No more running to the store for ice!  Works p...</td>\n",
       "      <td>2015-08-31</td>\n",
       "    </tr>\n",
       "  </tbody>\n",
       "</table>\n",
       "</div>"
      ],
      "text/plain": [
       "  marketplace  customer_id       review_id  product_id  product_parent  \\\n",
       "0          US     16199106  R203HPW78Z7N4K  B0067WNSZY       633038551   \n",
       "1          US     16374060  R2EAIGVLEALSP3  B002QSXK60       811766671   \n",
       "2          US     15322085  R1K1CD73HHLILA  B00EC452R6       345562728   \n",
       "3          US     32004835  R2KZBMOFRMYOPO  B00MVVIF2G       563052763   \n",
       "4          US     25414497   R6BIZOZY6UD01  B00IY7BNUW       874236579   \n",
       "\n",
       "                                       product_title  product_category  \\\n",
       "0  FGGF3032MW Gallery Series 30\" Wide Freestandin...  Major Appliances   \n",
       "1                          Best Hand Clothes Wringer  Major Appliances   \n",
       "2                    Supco SET184 Thermal Cutoff Kit  Major Appliances   \n",
       "3  Midea WHS-160RB1 Compact Single Reversible Doo...  Major Appliances   \n",
       "4                      Avalon Bay Portable Ice Maker  Major Appliances   \n",
       "\n",
       "   star_rating  helpful_votes  total_votes vine verified_purchase  \\\n",
       "0            5              0            0    N                 Y   \n",
       "1            5              1            1    N                 Y   \n",
       "2            5              0            0    N                 Y   \n",
       "3            5              1            1    N                 Y   \n",
       "4            5              0            0    N                 Y   \n",
       "\n",
       "                              review_headline  \\\n",
       "0  If you need a new stove, this is a winner.   \n",
       "1                                  Five Stars   \n",
       "2                               Fast Shipping   \n",
       "3                                  Five Stars   \n",
       "4                                  Five Stars   \n",
       "\n",
       "                                         review_body review_date  \n",
       "0  What a great stove.  What a wonderful replacem...  2015-08-31  \n",
       "1                                       worked great  2015-08-31  \n",
       "2  Part exactly what I needed.  Saved by purchasi...  2015-08-31  \n",
       "3  Love my refrigerator! ! Keeps everything  cold...  2015-08-31  \n",
       "4  No more running to the store for ice!  Works p...  2015-08-31  "
      ]
     },
     "execution_count": 5,
     "metadata": {},
     "output_type": "execute_result"
    }
   ],
   "source": [
    "df.head()"
   ]
  },
  {
   "cell_type": "code",
   "execution_count": 6,
   "metadata": {},
   "outputs": [],
   "source": [
    "df['review_headline'] = df['review_headline'].fillna(' ')\n",
    "df['review_body'] = df['review_body'].fillna(' ')"
   ]
  },
  {
   "cell_type": "code",
   "execution_count": 7,
   "metadata": {},
   "outputs": [],
   "source": [
    "# Replace embedded new lines, tabs and carriage return\n",
    "pattern = r'[\\n\\t\\r]+'"
   ]
  },
  {
   "cell_type": "markdown",
   "metadata": {},
   "source": [
    "### Submit review to Firehose Stream"
   ]
  },
  {
   "cell_type": "code",
   "execution_count": 8,
   "metadata": {},
   "outputs": [],
   "source": [
    "import boto3"
   ]
  },
  {
   "cell_type": "code",
   "execution_count": 9,
   "metadata": {},
   "outputs": [],
   "source": [
    "session = boto3.Session(region_name='us-east-1')"
   ]
  },
  {
   "cell_type": "code",
   "execution_count": 10,
   "metadata": {},
   "outputs": [],
   "source": [
    "client_firehose = session.client('firehose')"
   ]
  },
  {
   "cell_type": "code",
   "execution_count": 11,
   "metadata": {},
   "outputs": [],
   "source": [
    "kinesis_delivery_stream_name = 'CustomerReviewStream'"
   ]
  },
  {
   "cell_type": "markdown",
   "metadata": {},
   "source": [
    "### Warning: Sending all 100,000 reviews would incur a cost of USD 65 for sentiment analysis.\n",
    "### In this lab, we need to send only the first 10 reviews"
   ]
  },
  {
   "cell_type": "code",
   "execution_count": 12,
   "metadata": {},
   "outputs": [
    {
     "name": "stdout",
     "output_type": "stream",
     "text": [
      "{\"marketplace\":\"US\",\"customer_id\":16199106,\"review_id\":\"R203HPW78Z7N4K\",\"product_id\":\"B0067WNSZY\",\"product_parent\":633038551,\"product_title\":\"FGGF3032MW Gallery Series 30\\\" Wide Freestanding Gas Range 5 Sealed Burners Easy Temperature Probe Express-Select Controls One-Touch Self Clean:\",\"product_category\":\"Major Appliances\",\"star_rating\":5,\"helpful_votes\":0,\"total_votes\":0,\"vine\":\"N\",\"verified_purchase\":\"Y\",\"review_headline\":\"If you need a new stove, this is a winner.\",\"review_body\":\"What a great stove.  What a wonderful replacement for my sort of antique.  Enjoy it every day.\",\"review_date\":\"2015-08-31\"}\n",
      "\n",
      "Response 200\n",
      "\n",
      "{\"marketplace\":\"US\",\"customer_id\":16374060,\"review_id\":\"R2EAIGVLEALSP3\",\"product_id\":\"B002QSXK60\",\"product_parent\":811766671,\"product_title\":\"Best Hand Clothes Wringer\",\"product_category\":\"Major Appliances\",\"star_rating\":5,\"helpful_votes\":1,\"total_votes\":1,\"vine\":\"N\",\"verified_purchase\":\"Y\",\"review_headline\":\"Five Stars\",\"review_body\":\"worked great\",\"review_date\":\"2015-08-31\"}\n",
      "\n",
      "Response 200\n",
      "\n",
      "{\"marketplace\":\"US\",\"customer_id\":15322085,\"review_id\":\"R1K1CD73HHLILA\",\"product_id\":\"B00EC452R6\",\"product_parent\":345562728,\"product_title\":\"Supco SET184 Thermal Cutoff Kit\",\"product_category\":\"Major Appliances\",\"star_rating\":5,\"helpful_votes\":0,\"total_votes\":0,\"vine\":\"N\",\"verified_purchase\":\"Y\",\"review_headline\":\"Fast Shipping\",\"review_body\":\"Part exactly what I needed.  Saved by purchasing myself.\",\"review_date\":\"2015-08-31\"}\n",
      "\n",
      "Response 200\n",
      "\n",
      "{\"marketplace\":\"US\",\"customer_id\":32004835,\"review_id\":\"R2KZBMOFRMYOPO\",\"product_id\":\"B00MVVIF2G\",\"product_parent\":563052763,\"product_title\":\"Midea WHS-160RB1 Compact Single Reversible Door Refrigerator and Freezer, 4.4 Cubic Feet, Black\",\"product_category\":\"Major Appliances\",\"star_rating\":5,\"helpful_votes\":1,\"total_votes\":1,\"vine\":\"N\",\"verified_purchase\":\"Y\",\"review_headline\":\"Five Stars\",\"review_body\":\"Love my refrigerator! ! Keeps everything  cold..will recommend!\",\"review_date\":\"2015-08-31\"}\n",
      "\n",
      "Response 200\n",
      "\n",
      "{\"marketplace\":\"US\",\"customer_id\":25414497,\"review_id\":\"R6BIZOZY6UD01\",\"product_id\":\"B00IY7BNUW\",\"product_parent\":874236579,\"product_title\":\"Avalon Bay Portable Ice Maker\",\"product_category\":\"Major Appliances\",\"star_rating\":5,\"helpful_votes\":0,\"total_votes\":0,\"vine\":\"N\",\"verified_purchase\":\"Y\",\"review_headline\":\"Five Stars\",\"review_body\":\"No more running to the store for ice!  Works perfectly.\",\"review_date\":\"2015-08-31\"}\n",
      "\n",
      "Response 200\n",
      "\n",
      "{\"marketplace\":\"US\",\"customer_id\":36311751,\"review_id\":\"R1MCXZFNF8E7Y0\",\"product_id\":\"B0033X29CI\",\"product_parent\":294467812,\"product_title\":\"Danby  Freestanding Wine Cooler\",\"product_category\":\"Major Appliances\",\"star_rating\":1,\"helpful_votes\":0,\"total_votes\":0,\"vine\":\"N\",\"verified_purchase\":\"Y\",\"review_headline\":\"Piece of Junk\",\"review_body\":\"It would not cool below 55 degrees and has now stopped working all together.  I would NOT recommend this piece of junk to anyone.\",\"review_date\":\"2015-08-31\"}\n",
      "\n",
      "Response 200\n",
      "\n",
      "{\"marketplace\":\"US\",\"customer_id\":30920961,\"review_id\":\"R3EMB3E3ODR6BW\",\"product_id\":\"B005R597HA\",\"product_parent\":183784715,\"product_title\":\"Avanti 110-Volt Automatic Portable Compact Dryer with Stainless Drum and See-Thru Window\",\"product_category\":\"Major Appliances\",\"star_rating\":5,\"helpful_votes\":2,\"total_votes\":2,\"vine\":\"N\",\"verified_purchase\":\"Y\",\"review_headline\":\"Works awesome for apt size 110 dryer\",\"review_body\":\"Works awesome for apt size 110 dryer. Handles load from apt size washer just fine. It does take longer to dry. Electric cost savings over a full size 220 is worth the time. Does not add much humidity unless lint filter is full.\",\"review_date\":\"2015-08-31\"}\n",
      "\n",
      "Response 200\n",
      "\n",
      "{\"marketplace\":\"US\",\"customer_id\":52491265,\"review_id\":\"RJTONVTTOPJ5S\",\"product_id\":\"B00MO6V8Y0\",\"product_parent\":960251524,\"product_title\":\"Danby products\",\"product_category\":\"Major Appliances\",\"star_rating\":5,\"helpful_votes\":0,\"total_votes\":0,\"vine\":\"N\",\"verified_purchase\":\"Y\",\"review_headline\":\"Five Stars\",\"review_body\":\"exactly what I wanted!\",\"review_date\":\"2015-08-31\"}\n",
      "\n",
      "Response 200\n",
      "\n",
      "{\"marketplace\":\"US\",\"customer_id\":48166169,\"review_id\":\"R21U5QZ2CQECUM\",\"product_id\":\"B00HT39QDI\",\"product_parent\":992475314,\"product_title\":\"3 Pack Tier1 MSWF GE SmartWater Replacement Refrigerator Water Filter\",\"product_category\":\"Major Appliances\",\"star_rating\":4,\"helpful_votes\":0,\"total_votes\":0,\"vine\":\"N\",\"verified_purchase\":\"Y\",\"review_headline\":\"Four Stars\",\"review_body\":\"AS advertised\",\"review_date\":\"2015-08-31\"}\n",
      "\n",
      "Response 200\n",
      "\n",
      "{\"marketplace\":\"US\",\"customer_id\":50394924,\"review_id\":\"RL2BBC51H89DH\",\"product_id\":\"B00LESFZ52\",\"product_parent\":1641606,\"product_title\":\"True TSSU-60-16 60\\\" 2 Door Refrigerated Sandwich Prep Table | (16) 1\\/6 Pan Capacity\",\"product_category\":\"Major Appliances\",\"star_rating\":4,\"helpful_votes\":0,\"total_votes\":0,\"vine\":\"N\",\"verified_purchase\":\"Y\",\"review_headline\":\"but has poor insulation in the top\",\"review_body\":\"It works as advertised, but has poor insulation in the top. Like the 3rd shelf, it comes in handy for small\\/short items.\",\"review_date\":\"2015-08-31\"}\n",
      "\n",
      "Response 200\n",
      "\n"
     ]
    }
   ],
   "source": [
    "# Push Reviews to Firehose\n",
    "# firehose to s3 json\n",
    "# https://stackoverflow.com/questions/34468319/reading-the-data-written-to-s3-by-amazon-kinesis-firehose-stream/49417680#49417680\n",
    "\n",
    "for i in range(10):\n",
    "    # Strip out any new line, tab and carriage return from json payload\n",
    "    # Add a new line at the end to ensure firehose places each json record in a separate\n",
    "    # row. without the new line, firehose simply places all records in a single line in S3.\n",
    "    payload = re.sub(pattern,' ', df.iloc[i].to_json()) + \"\\n\"\n",
    "\n",
    "    print(payload)\n",
    "    response = client_firehose.put_record(\n",
    "        DeliveryStreamName=kinesis_delivery_stream_name,\n",
    "        Record={\n",
    "            'Data': payload\n",
    "        }\n",
    "    )\n",
    "\n",
    "    print ('Response',response['ResponseMetadata']['HTTPStatusCode'])\n",
    "    print()\n",
    "    '''if response['ResponseMetadata']['HTTPStatusCode'] != 200:\n",
    "        print (response)\n",
    "    else:\n",
    "        print('.',end=' ')\n",
    "'''        "
   ]
  },
  {
   "cell_type": "markdown",
   "metadata": {},
   "source": [
    "### Verify CloudWatch Log for the Lambda Function to confirm processing of review\n",
    "### and check S3 bucket for the delivered data"
   ]
  },
  {
   "cell_type": "code",
   "execution_count": null,
   "metadata": {},
   "outputs": [],
   "source": []
  }
 ],
 "metadata": {
  "kernelspec": {
   "display_name": "conda_python3",
   "language": "python",
   "name": "conda_python3"
  },
  "language_info": {
   "codemirror_mode": {
    "name": "ipython",
    "version": 3
   },
   "file_extension": ".py",
   "mimetype": "text/x-python",
   "name": "python",
   "nbconvert_exporter": "python",
   "pygments_lexer": "ipython3",
   "version": "3.6.5"
  }
 },
 "nbformat": 4,
 "nbformat_minor": 1
}
