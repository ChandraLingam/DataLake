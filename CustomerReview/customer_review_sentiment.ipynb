{
 "cells": [
  {
   "cell_type": "markdown",
   "metadata": {},
   "source": [
    "# Amazon Comprehend - Sentiment Example\n",
    "###  Assess sentiment of customer review\n",
    "\n",
    "Objective: Use Comprehend Service to detect sentiment\n",
    "\n",
    "Input: Customer Review headline and body  \n",
    "Output: Overall sentiment and scores for Positive, Negative, Neutral, Mixed  \n",
    "\n",
    "https://docs.aws.amazon.com/comprehend/latest/dg/how-sentiment.html  \n",
    "\n",
    "Dataset and Problem Description:  \n",
    "https://s3.amazonaws.com/amazon-reviews-pds/readme.html   \n",
    "https://s3.console.aws.amazon.com/s3/buckets/amazon-reviews-pds/?region=us-east-2  \n",
    "\n",
    "File: s3://amazon-reviews-pds/tsv/amazon_reviews_us_Major_Appliances_v1_00.tsv.gz"
   ]
  },
  {
   "cell_type": "code",
   "execution_count": 1,
   "metadata": {},
   "outputs": [],
   "source": [
    "import numpy as np\n",
    "import pandas as pd\n",
    "import matplotlib.pyplot as plt\n",
    "import re\n",
    "\n",
    "# Connect to Comprehend to get Sentiment\n",
    "import boto3"
   ]
  },
  {
   "cell_type": "markdown",
   "metadata": {},
   "source": [
    "### Download Customer Reviews from Amazon Public Dataset"
   ]
  },
  {
   "cell_type": "code",
   "execution_count": 2,
   "metadata": {},
   "outputs": [
    {
     "name": "stdout",
     "output_type": "stream",
     "text": [
      "download: s3://amazon-reviews-pds/tsv/amazon_reviews_us_Major_Appliances_v1_00.tsv.gz to ./amazon_reviews_us_Major_Appliances_v1_00.tsv.gz\n"
     ]
    }
   ],
   "source": [
    "!aws s3 cp s3://amazon-reviews-pds/tsv/amazon_reviews_us_Major_Appliances_v1_00.tsv.gz ."
   ]
  },
  {
   "cell_type": "markdown",
   "metadata": {},
   "source": [
    "### Prepare Training and Test data "
   ]
  },
  {
   "cell_type": "code",
   "execution_count": 3,
   "metadata": {},
   "outputs": [
    {
     "name": "stderr",
     "output_type": "stream",
     "text": [
      "b'Skipping line 5583: expected 15 fields, saw 22\\nSkipping line 22814: expected 15 fields, saw 22\\nSkipping line 22883: expected 15 fields, saw 22\\nSkipping line 29872: expected 15 fields, saw 22\\nSkipping line 37242: expected 15 fields, saw 22\\nSkipping line 59693: expected 15 fields, saw 22\\n'\n"
     ]
    }
   ],
   "source": [
    "df = pd.read_csv('amazon_reviews_us_Major_Appliances_v1_00.tsv.gz',\n",
    "                 sep='\\t',error_bad_lines=False,warn_bad_lines=True)#,nrows=1000)"
   ]
  },
  {
   "cell_type": "code",
   "execution_count": 4,
   "metadata": {},
   "outputs": [
    {
     "name": "stdout",
     "output_type": "stream",
     "text": [
      "Rows: 96834, Columns: 15\n"
     ]
    }
   ],
   "source": [
    "print('Rows: {0}, Columns: {1}'.format(df.shape[0],df.shape[1]))"
   ]
  },
  {
   "cell_type": "code",
   "execution_count": 5,
   "metadata": {},
   "outputs": [
    {
     "data": {
      "text/plain": [
       "96833"
      ]
     },
     "execution_count": 5,
     "metadata": {},
     "output_type": "execute_result"
    }
   ],
   "source": [
    "df.index.max()"
   ]
  },
  {
   "cell_type": "code",
   "execution_count": 6,
   "metadata": {
    "scrolled": true
   },
   "outputs": [
    {
     "data": {
      "text/plain": [
       "Index(['marketplace', 'customer_id', 'review_id', 'product_id',\n",
       "       'product_parent', 'product_title', 'product_category', 'star_rating',\n",
       "       'helpful_votes', 'total_votes', 'vine', 'verified_purchase',\n",
       "       'review_headline', 'review_body', 'review_date'],\n",
       "      dtype='object')"
      ]
     },
     "execution_count": 6,
     "metadata": {},
     "output_type": "execute_result"
    }
   ],
   "source": [
    "df.columns"
   ]
  },
  {
   "cell_type": "code",
   "execution_count": 7,
   "metadata": {},
   "outputs": [
    {
     "data": {
      "text/plain": [
       "marketplace          False\n",
       "customer_id          False\n",
       "review_id            False\n",
       "product_id           False\n",
       "product_parent       False\n",
       "product_title        False\n",
       "product_category     False\n",
       "star_rating          False\n",
       "helpful_votes        False\n",
       "total_votes          False\n",
       "vine                 False\n",
       "verified_purchase    False\n",
       "review_headline       True\n",
       "review_body           True\n",
       "review_date           True\n",
       "dtype: bool"
      ]
     },
     "execution_count": 7,
     "metadata": {},
     "output_type": "execute_result"
    }
   ],
   "source": [
    "df.isna().any(axis=0)"
   ]
  },
  {
   "cell_type": "code",
   "execution_count": 8,
   "metadata": {},
   "outputs": [],
   "source": [
    "# Look for any rows that have NA\n",
    "rows_missing_values = df.isna().any(axis=1)"
   ]
  },
  {
   "cell_type": "code",
   "execution_count": 9,
   "metadata": {},
   "outputs": [
    {
     "data": {
      "text/html": [
       "<div>\n",
       "<style scoped>\n",
       "    .dataframe tbody tr th:only-of-type {\n",
       "        vertical-align: middle;\n",
       "    }\n",
       "\n",
       "    .dataframe tbody tr th {\n",
       "        vertical-align: top;\n",
       "    }\n",
       "\n",
       "    .dataframe thead th {\n",
       "        text-align: right;\n",
       "    }\n",
       "</style>\n",
       "<table border=\"1\" class=\"dataframe\">\n",
       "  <thead>\n",
       "    <tr style=\"text-align: right;\">\n",
       "      <th></th>\n",
       "      <th>marketplace</th>\n",
       "      <th>customer_id</th>\n",
       "      <th>review_id</th>\n",
       "      <th>product_id</th>\n",
       "      <th>product_parent</th>\n",
       "      <th>product_title</th>\n",
       "      <th>product_category</th>\n",
       "      <th>star_rating</th>\n",
       "      <th>helpful_votes</th>\n",
       "      <th>total_votes</th>\n",
       "      <th>vine</th>\n",
       "      <th>verified_purchase</th>\n",
       "      <th>review_headline</th>\n",
       "      <th>review_body</th>\n",
       "      <th>review_date</th>\n",
       "    </tr>\n",
       "  </thead>\n",
       "  <tbody>\n",
       "    <tr>\n",
       "      <th>3254</th>\n",
       "      <td>US</td>\n",
       "      <td>29686651</td>\n",
       "      <td>R1DGB2U8KV9HKP</td>\n",
       "      <td>B00GOFUISY</td>\n",
       "      <td>138120585</td>\n",
       "      <td>FIREBIRD New 36\" European Style Wall Mount Sta...</td>\n",
       "      <td>Major Appliances</td>\n",
       "      <td>3</td>\n",
       "      <td>2</td>\n",
       "      <td>3</td>\n",
       "      <td>N</td>\n",
       "      <td>Y</td>\n",
       "      <td>Three Stars</td>\n",
       "      <td>NaN</td>\n",
       "      <td>2015-08-06</td>\n",
       "    </tr>\n",
       "    <tr>\n",
       "      <th>8640</th>\n",
       "      <td>US</td>\n",
       "      <td>733945</td>\n",
       "      <td>R1QOC0UPHADKFZ</td>\n",
       "      <td>B00GHXU3VA</td>\n",
       "      <td>931824698</td>\n",
       "      <td>GOLDEN VANTAGE 30\" European Style Ventless/Duc...</td>\n",
       "      <td>Major Appliances</td>\n",
       "      <td>5</td>\n",
       "      <td>9</td>\n",
       "      <td>9</td>\n",
       "      <td>N</td>\n",
       "      <td>Y</td>\n",
       "      <td>Five Stars</td>\n",
       "      <td>NaN</td>\n",
       "      <td>2015-06-20</td>\n",
       "    </tr>\n",
       "    <tr>\n",
       "      <th>11556</th>\n",
       "      <td>US</td>\n",
       "      <td>18030318</td>\n",
       "      <td>R36Z529A9SVZ14</td>\n",
       "      <td>B002ROS27U</td>\n",
       "      <td>461806580</td>\n",
       "      <td>Whynter UIM-155 Stainless Steel Built-In Ice M...</td>\n",
       "      <td>Major Appliances</td>\n",
       "      <td>1</td>\n",
       "      <td>54</td>\n",
       "      <td>72</td>\n",
       "      <td>N</td>\n",
       "      <td>Y</td>\n",
       "      <td>One Star</td>\n",
       "      <td>NaN</td>\n",
       "      <td>2015-05-25</td>\n",
       "    </tr>\n",
       "    <tr>\n",
       "      <th>15500</th>\n",
       "      <td>US</td>\n",
       "      <td>52655156</td>\n",
       "      <td>RZR2BV8UJXB3J</td>\n",
       "      <td>B00DNSO2UK</td>\n",
       "      <td>316513931</td>\n",
       "      <td>Haier  Wine Cellar with Electronic Controls</td>\n",
       "      <td>Major Appliances</td>\n",
       "      <td>5</td>\n",
       "      <td>10</td>\n",
       "      <td>10</td>\n",
       "      <td>N</td>\n",
       "      <td>Y</td>\n",
       "      <td>Working great so far!</td>\n",
       "      <td>NaN</td>\n",
       "      <td>2015-04-16</td>\n",
       "    </tr>\n",
       "    <tr>\n",
       "      <th>16453</th>\n",
       "      <td>US</td>\n",
       "      <td>24105158</td>\n",
       "      <td>R15NCTE2RINP6W</td>\n",
       "      <td>B005KT4LK6</td>\n",
       "      <td>236627965</td>\n",
       "      <td>Whirlpool WTW8800YW Cabrio 4.6 Cu. Ft. White T...</td>\n",
       "      <td>Major Appliances</td>\n",
       "      <td>1</td>\n",
       "      <td>1</td>\n",
       "      <td>1</td>\n",
       "      <td>N</td>\n",
       "      <td>N</td>\n",
       "      <td>One Star</td>\n",
       "      <td>NaN</td>\n",
       "      <td>2015-04-07</td>\n",
       "    </tr>\n",
       "    <tr>\n",
       "      <th>22583</th>\n",
       "      <td>US</td>\n",
       "      <td>48624154</td>\n",
       "      <td>R223L9DVYCY4J5</td>\n",
       "      <td>B000S0PRNM</td>\n",
       "      <td>136191470</td>\n",
       "      <td>LG : WM2233HW 27 XL Front-Load Washer - White</td>\n",
       "      <td>Major Appliances</td>\n",
       "      <td>1</td>\n",
       "      <td>0</td>\n",
       "      <td>0</td>\n",
       "      <td>N</td>\n",
       "      <td>N</td>\n",
       "      <td>the worse washer and dryer set ever</td>\n",
       "      <td>NaN</td>\n",
       "      <td>2015-02-15</td>\n",
       "    </tr>\n",
       "    <tr>\n",
       "      <th>29680</th>\n",
       "      <td>US</td>\n",
       "      <td>51669844</td>\n",
       "      <td>R18VF51XXHU2UE</td>\n",
       "      <td>B00DOHHZHM</td>\n",
       "      <td>221894244</td>\n",
       "      <td>Koolatron Beer Keg Cooler Brown</td>\n",
       "      <td>Major Appliances</td>\n",
       "      <td>1</td>\n",
       "      <td>10</td>\n",
       "      <td>18</td>\n",
       "      <td>N</td>\n",
       "      <td>N</td>\n",
       "      <td>Paperweight</td>\n",
       "      <td>NaN</td>\n",
       "      <td>2014-12-13</td>\n",
       "    </tr>\n",
       "    <tr>\n",
       "      <th>36130</th>\n",
       "      <td>US</td>\n",
       "      <td>8711378</td>\n",
       "      <td>R3NXEY6CSAUFR</td>\n",
       "      <td>B0050KKS5C</td>\n",
       "      <td>758706493</td>\n",
       "      <td>316075103 BAKE ELEMENT REPAIR PART FOR FRIGIDA...</td>\n",
       "      <td>Major Appliances</td>\n",
       "      <td>3</td>\n",
       "      <td>1</td>\n",
       "      <td>1</td>\n",
       "      <td>N</td>\n",
       "      <td>Y</td>\n",
       "      <td>NaN</td>\n",
       "      <td>Did not fix problem - my fault.</td>\n",
       "      <td>2014-10-08</td>\n",
       "    </tr>\n",
       "    <tr>\n",
       "      <th>95250</th>\n",
       "      <td>US</td>\n",
       "      <td>14267148</td>\n",
       "      <td>R3FCCZQ31S2Z4Q</td>\n",
       "      <td>B000IN22I2</td>\n",
       "      <td>99564707</td>\n",
       "      <td>Igloo FR28WH 2.8-Cu-Ft Refrigerator, White</td>\n",
       "      <td>Major Appliances</td>\n",
       "      <td>5</td>\n",
       "      <td>0</td>\n",
       "      <td>0</td>\n",
       "      <td>N</td>\n",
       "      <td>N</td>\n",
       "      <td>It does what it says on the tin\"\\tThis little ...</td>\n",
       "      <td>2008-07-21</td>\n",
       "      <td>NaN</td>\n",
       "    </tr>\n",
       "  </tbody>\n",
       "</table>\n",
       "</div>"
      ],
      "text/plain": [
       "      marketplace  customer_id       review_id  product_id  product_parent  \\\n",
       "3254           US     29686651  R1DGB2U8KV9HKP  B00GOFUISY       138120585   \n",
       "8640           US       733945  R1QOC0UPHADKFZ  B00GHXU3VA       931824698   \n",
       "11556          US     18030318  R36Z529A9SVZ14  B002ROS27U       461806580   \n",
       "15500          US     52655156   RZR2BV8UJXB3J  B00DNSO2UK       316513931   \n",
       "16453          US     24105158  R15NCTE2RINP6W  B005KT4LK6       236627965   \n",
       "22583          US     48624154  R223L9DVYCY4J5  B000S0PRNM       136191470   \n",
       "29680          US     51669844  R18VF51XXHU2UE  B00DOHHZHM       221894244   \n",
       "36130          US      8711378   R3NXEY6CSAUFR  B0050KKS5C       758706493   \n",
       "95250          US     14267148  R3FCCZQ31S2Z4Q  B000IN22I2        99564707   \n",
       "\n",
       "                                           product_title  product_category  \\\n",
       "3254   FIREBIRD New 36\" European Style Wall Mount Sta...  Major Appliances   \n",
       "8640   GOLDEN VANTAGE 30\" European Style Ventless/Duc...  Major Appliances   \n",
       "11556  Whynter UIM-155 Stainless Steel Built-In Ice M...  Major Appliances   \n",
       "15500        Haier  Wine Cellar with Electronic Controls  Major Appliances   \n",
       "16453  Whirlpool WTW8800YW Cabrio 4.6 Cu. Ft. White T...  Major Appliances   \n",
       "22583      LG : WM2233HW 27 XL Front-Load Washer - White  Major Appliances   \n",
       "29680                    Koolatron Beer Keg Cooler Brown  Major Appliances   \n",
       "36130  316075103 BAKE ELEMENT REPAIR PART FOR FRIGIDA...  Major Appliances   \n",
       "95250         Igloo FR28WH 2.8-Cu-Ft Refrigerator, White  Major Appliances   \n",
       "\n",
       "       star_rating  helpful_votes  total_votes vine verified_purchase  \\\n",
       "3254             3              2            3    N                 Y   \n",
       "8640             5              9            9    N                 Y   \n",
       "11556            1             54           72    N                 Y   \n",
       "15500            5             10           10    N                 Y   \n",
       "16453            1              1            1    N                 N   \n",
       "22583            1              0            0    N                 N   \n",
       "29680            1             10           18    N                 N   \n",
       "36130            3              1            1    N                 Y   \n",
       "95250            5              0            0    N                 N   \n",
       "\n",
       "                                         review_headline  \\\n",
       "3254                                         Three Stars   \n",
       "8640                                          Five Stars   \n",
       "11556                                           One Star   \n",
       "15500                              Working great so far!   \n",
       "16453                                           One Star   \n",
       "22583                the worse washer and dryer set ever   \n",
       "29680                                        Paperweight   \n",
       "36130                                                NaN   \n",
       "95250  It does what it says on the tin\"\\tThis little ...   \n",
       "\n",
       "                           review_body review_date  \n",
       "3254                               NaN  2015-08-06  \n",
       "8640                               NaN  2015-06-20  \n",
       "11556                              NaN  2015-05-25  \n",
       "15500                              NaN  2015-04-16  \n",
       "16453                              NaN  2015-04-07  \n",
       "22583                              NaN  2015-02-15  \n",
       "29680                              NaN  2014-12-13  \n",
       "36130  Did not fix problem - my fault.  2014-10-08  \n",
       "95250                       2008-07-21         NaN  "
      ]
     },
     "execution_count": 9,
     "metadata": {},
     "output_type": "execute_result"
    }
   ],
   "source": [
    "df[rows_missing_values]"
   ]
  },
  {
   "cell_type": "code",
   "execution_count": 10,
   "metadata": {},
   "outputs": [],
   "source": [
    "df['review_headline'] = df['review_headline'].fillna(' ')\n",
    "df['review_body'] = df['review_body'].fillna(' ')"
   ]
  },
  {
   "cell_type": "code",
   "execution_count": 11,
   "metadata": {},
   "outputs": [],
   "source": [
    "# Replace embedded new lines, tabs and carriage return\n",
    "pattern = r'[\\n\\t\\r]+'"
   ]
  },
  {
   "cell_type": "code",
   "execution_count": 12,
   "metadata": {},
   "outputs": [
    {
     "name": "stdout",
     "output_type": "stream",
     "text": [
      "original text: ab,cd\n",
      "\tef\n",
      "after substituition: ab,cd ef\n"
     ]
    }
   ],
   "source": [
    "# Use Regex module sub method to identify patterns of interest and replace the matching text.\n",
    "text = 'ab,cd\\n\\tef'\n",
    "\n",
    "print('original text:', text)\n",
    "\n",
    "print('after substituition:', re.sub(pattern,' ', text))"
   ]
  },
  {
   "cell_type": "code",
   "execution_count": 13,
   "metadata": {},
   "outputs": [],
   "source": [
    "df['product_title'] = df['product_title'].map(lambda x: re.sub(pattern,' ',x))\n",
    "df['review_headline'] = df['review_headline'].map(lambda x: re.sub(pattern,' ',x))\n",
    "df['review_body'] = df['review_body'].map(lambda x: re.sub(pattern,' ',x))"
   ]
  },
  {
   "cell_type": "code",
   "execution_count": 14,
   "metadata": {},
   "outputs": [
    {
     "data": {
      "text/html": [
       "<div>\n",
       "<style scoped>\n",
       "    .dataframe tbody tr th:only-of-type {\n",
       "        vertical-align: middle;\n",
       "    }\n",
       "\n",
       "    .dataframe tbody tr th {\n",
       "        vertical-align: top;\n",
       "    }\n",
       "\n",
       "    .dataframe thead th {\n",
       "        text-align: right;\n",
       "    }\n",
       "</style>\n",
       "<table border=\"1\" class=\"dataframe\">\n",
       "  <thead>\n",
       "    <tr style=\"text-align: right;\">\n",
       "      <th></th>\n",
       "      <th>marketplace</th>\n",
       "      <th>customer_id</th>\n",
       "      <th>review_id</th>\n",
       "      <th>product_id</th>\n",
       "      <th>product_parent</th>\n",
       "      <th>product_title</th>\n",
       "      <th>product_category</th>\n",
       "      <th>star_rating</th>\n",
       "      <th>helpful_votes</th>\n",
       "      <th>total_votes</th>\n",
       "      <th>vine</th>\n",
       "      <th>verified_purchase</th>\n",
       "      <th>review_headline</th>\n",
       "      <th>review_body</th>\n",
       "      <th>review_date</th>\n",
       "    </tr>\n",
       "  </thead>\n",
       "  <tbody>\n",
       "    <tr>\n",
       "      <th>0</th>\n",
       "      <td>US</td>\n",
       "      <td>16199106</td>\n",
       "      <td>R203HPW78Z7N4K</td>\n",
       "      <td>B0067WNSZY</td>\n",
       "      <td>633038551</td>\n",
       "      <td>FGGF3032MW Gallery Series 30\" Wide Freestandin...</td>\n",
       "      <td>Major Appliances</td>\n",
       "      <td>5</td>\n",
       "      <td>0</td>\n",
       "      <td>0</td>\n",
       "      <td>N</td>\n",
       "      <td>Y</td>\n",
       "      <td>If you need a new stove, this is a winner.</td>\n",
       "      <td>What a great stove.  What a wonderful replacem...</td>\n",
       "      <td>2015-08-31</td>\n",
       "    </tr>\n",
       "    <tr>\n",
       "      <th>1</th>\n",
       "      <td>US</td>\n",
       "      <td>16374060</td>\n",
       "      <td>R2EAIGVLEALSP3</td>\n",
       "      <td>B002QSXK60</td>\n",
       "      <td>811766671</td>\n",
       "      <td>Best Hand Clothes Wringer</td>\n",
       "      <td>Major Appliances</td>\n",
       "      <td>5</td>\n",
       "      <td>1</td>\n",
       "      <td>1</td>\n",
       "      <td>N</td>\n",
       "      <td>Y</td>\n",
       "      <td>Five Stars</td>\n",
       "      <td>worked great</td>\n",
       "      <td>2015-08-31</td>\n",
       "    </tr>\n",
       "    <tr>\n",
       "      <th>2</th>\n",
       "      <td>US</td>\n",
       "      <td>15322085</td>\n",
       "      <td>R1K1CD73HHLILA</td>\n",
       "      <td>B00EC452R6</td>\n",
       "      <td>345562728</td>\n",
       "      <td>Supco SET184 Thermal Cutoff Kit</td>\n",
       "      <td>Major Appliances</td>\n",
       "      <td>5</td>\n",
       "      <td>0</td>\n",
       "      <td>0</td>\n",
       "      <td>N</td>\n",
       "      <td>Y</td>\n",
       "      <td>Fast Shipping</td>\n",
       "      <td>Part exactly what I needed.  Saved by purchasi...</td>\n",
       "      <td>2015-08-31</td>\n",
       "    </tr>\n",
       "    <tr>\n",
       "      <th>3</th>\n",
       "      <td>US</td>\n",
       "      <td>32004835</td>\n",
       "      <td>R2KZBMOFRMYOPO</td>\n",
       "      <td>B00MVVIF2G</td>\n",
       "      <td>563052763</td>\n",
       "      <td>Midea WHS-160RB1 Compact Single Reversible Doo...</td>\n",
       "      <td>Major Appliances</td>\n",
       "      <td>5</td>\n",
       "      <td>1</td>\n",
       "      <td>1</td>\n",
       "      <td>N</td>\n",
       "      <td>Y</td>\n",
       "      <td>Five Stars</td>\n",
       "      <td>Love my refrigerator! ! Keeps everything  cold...</td>\n",
       "      <td>2015-08-31</td>\n",
       "    </tr>\n",
       "    <tr>\n",
       "      <th>4</th>\n",
       "      <td>US</td>\n",
       "      <td>25414497</td>\n",
       "      <td>R6BIZOZY6UD01</td>\n",
       "      <td>B00IY7BNUW</td>\n",
       "      <td>874236579</td>\n",
       "      <td>Avalon Bay Portable Ice Maker</td>\n",
       "      <td>Major Appliances</td>\n",
       "      <td>5</td>\n",
       "      <td>0</td>\n",
       "      <td>0</td>\n",
       "      <td>N</td>\n",
       "      <td>Y</td>\n",
       "      <td>Five Stars</td>\n",
       "      <td>No more running to the store for ice!  Works p...</td>\n",
       "      <td>2015-08-31</td>\n",
       "    </tr>\n",
       "  </tbody>\n",
       "</table>\n",
       "</div>"
      ],
      "text/plain": [
       "  marketplace  customer_id       review_id  product_id  product_parent  \\\n",
       "0          US     16199106  R203HPW78Z7N4K  B0067WNSZY       633038551   \n",
       "1          US     16374060  R2EAIGVLEALSP3  B002QSXK60       811766671   \n",
       "2          US     15322085  R1K1CD73HHLILA  B00EC452R6       345562728   \n",
       "3          US     32004835  R2KZBMOFRMYOPO  B00MVVIF2G       563052763   \n",
       "4          US     25414497   R6BIZOZY6UD01  B00IY7BNUW       874236579   \n",
       "\n",
       "                                       product_title  product_category  \\\n",
       "0  FGGF3032MW Gallery Series 30\" Wide Freestandin...  Major Appliances   \n",
       "1                          Best Hand Clothes Wringer  Major Appliances   \n",
       "2                    Supco SET184 Thermal Cutoff Kit  Major Appliances   \n",
       "3  Midea WHS-160RB1 Compact Single Reversible Doo...  Major Appliances   \n",
       "4                      Avalon Bay Portable Ice Maker  Major Appliances   \n",
       "\n",
       "   star_rating  helpful_votes  total_votes vine verified_purchase  \\\n",
       "0            5              0            0    N                 Y   \n",
       "1            5              1            1    N                 Y   \n",
       "2            5              0            0    N                 Y   \n",
       "3            5              1            1    N                 Y   \n",
       "4            5              0            0    N                 Y   \n",
       "\n",
       "                              review_headline  \\\n",
       "0  If you need a new stove, this is a winner.   \n",
       "1                                  Five Stars   \n",
       "2                               Fast Shipping   \n",
       "3                                  Five Stars   \n",
       "4                                  Five Stars   \n",
       "\n",
       "                                         review_body review_date  \n",
       "0  What a great stove.  What a wonderful replacem...  2015-08-31  \n",
       "1                                       worked great  2015-08-31  \n",
       "2  Part exactly what I needed.  Saved by purchasi...  2015-08-31  \n",
       "3  Love my refrigerator! ! Keeps everything  cold...  2015-08-31  \n",
       "4  No more running to the store for ice!  Works p...  2015-08-31  "
      ]
     },
     "execution_count": 14,
     "metadata": {},
     "output_type": "execute_result"
    }
   ],
   "source": [
    "df.head()"
   ]
  },
  {
   "cell_type": "code",
   "execution_count": null,
   "metadata": {},
   "outputs": [],
   "source": [
    "df['review_body'].head()"
   ]
  },
  {
   "cell_type": "code",
   "execution_count": 15,
   "metadata": {},
   "outputs": [
    {
     "name": "stdout",
     "output_type": "stream",
     "text": [
      "If you need a new stove, this is a winner. - What a great stove.  What a wonderful replacement for my sort of antique.  Enjoy it every day.\n",
      "\n",
      "Five Stars - worked great\n",
      "\n",
      "Fast Shipping - Part exactly what I needed.  Saved by purchasing myself.\n",
      "\n",
      "Five Stars - Love my refrigerator! ! Keeps everything  cold..will recommend!\n",
      "\n",
      "Five Stars - No more running to the store for ice!  Works perfectly.\n",
      "\n",
      "Piece of Junk - It would not cool below 55 degrees and has now stopped working all together.  I would NOT recommend this piece of junk to anyone.\n",
      "\n",
      "Works awesome for apt size 110 dryer - Works awesome for apt size 110 dryer. Handles load from apt size washer just fine. It does take longer to dry. Electric cost savings over a full size 220 is worth the time. Does not add much humidity unless lint filter is full.\n",
      "\n",
      "Five Stars - exactly what I wanted!\n",
      "\n",
      "Four Stars - AS advertised\n",
      "\n",
      "but has poor insulation in the top - It works as advertised, but has poor insulation in the top. Like the 3rd shelf, it comes in handy for small/short items.\n",
      "\n"
     ]
    }
   ],
   "source": [
    "# Some examples of review title and body\n",
    "for i in range(10):\n",
    "    print(df.iloc[i]['review_headline'] + ' - ' + df.iloc[i]['review_body'])\n",
    "    print()"
   ]
  },
  {
   "cell_type": "markdown",
   "metadata": {},
   "source": [
    "### Get Sentiment of Reviews using Comprehend AI Service"
   ]
  },
  {
   "cell_type": "code",
   "execution_count": 16,
   "metadata": {},
   "outputs": [],
   "source": [
    "session = boto3.Session(region_name='us-east-1')"
   ]
  },
  {
   "cell_type": "code",
   "execution_count": 17,
   "metadata": {},
   "outputs": [],
   "source": [
    "client = session.client('comprehend')"
   ]
  },
  {
   "cell_type": "code",
   "execution_count": 19,
   "metadata": {},
   "outputs": [],
   "source": [
    "# Try some examples\n",
    "sentiment = client.detect_sentiment(\n",
    "    Text=\"It's insulting that @awscloud marked an EBS volume limit increase support request as low severity but I can't do anything while I wait.\",\n",
    "    LanguageCode='en'\n",
    ")"
   ]
  },
  {
   "cell_type": "code",
   "execution_count": 20,
   "metadata": {},
   "outputs": [
    {
     "data": {
      "text/plain": [
       "('NEGATIVE',\n",
       " {'Positive': 0.006640770472586155,\n",
       "  'Negative': 0.9318274259567261,\n",
       "  'Neutral': 0.061524178832769394,\n",
       "  'Mixed': 7.676783752685878e-06})"
      ]
     },
     "execution_count": 20,
     "metadata": {},
     "output_type": "execute_result"
    }
   ],
   "source": [
    "sentiment['Sentiment'],sentiment['SentimentScore']"
   ]
  },
  {
   "cell_type": "code",
   "execution_count": 26,
   "metadata": {},
   "outputs": [
    {
     "name": "stdout",
     "output_type": "stream",
     "text": [
      "If you need a new stove, this is a winner. - What a great stove.  What a wonderful replacement for my sort of antique.  Enjoy it every day.\n",
      "POSITIVE\n",
      "\n",
      "Five Stars - worked great\n",
      "POSITIVE\n",
      "\n",
      "Fast Shipping - Part exactly what I needed.  Saved by purchasing myself.\n",
      "POSITIVE\n",
      "\n",
      "Five Stars - Love my refrigerator! ! Keeps everything  cold..will recommend!\n",
      "POSITIVE\n",
      "\n",
      "Five Stars - No more running to the store for ice!  Works perfectly.\n",
      "POSITIVE\n",
      "\n",
      "Piece of Junk - It would not cool below 55 degrees and has now stopped working all together.  I would NOT recommend this piece of junk to anyone.\n",
      "NEGATIVE\n",
      "\n",
      "Works awesome for apt size 110 dryer - Works awesome for apt size 110 dryer. Handles load from apt size washer just fine. It does take longer to dry. Electric cost savings over a full size 220 is worth the time. Does not add much humidity unless lint filter is full.\n",
      "POSITIVE\n",
      "\n",
      "Five Stars - exactly what I wanted!\n",
      "POSITIVE\n",
      "\n",
      "Four Stars - AS advertised\n",
      "POSITIVE\n",
      "\n",
      "but has poor insulation in the top - It works as advertised, but has poor insulation in the top. Like the 3rd shelf, it comes in handy for small/short items.\n",
      "MIXED\n",
      "\n",
      "Two Stars - it's not worth 22 dollars, I've heard it became of some value just not that high.\n",
      "NEGATIVE\n",
      "\n",
      "Love it for camping - Wonderful! It spins the clothes out fast! We use this with the washing machine just like this in our camper. Great and saves money at the camp laundry.  Just wash spin and hang up.\n",
      "POSITIVE\n",
      "\n",
      "Four Stars - Did the job but didn't match the original gray wheels.\n",
      "MIXED\n",
      "\n",
      "Very well satisfied. - Arrived on time and exactly as described.  Fits my need perfectly.  Very well satisfied.\n",
      "POSITIVE\n",
      "\n",
      "Five Stars - Super\n",
      "POSITIVE\n",
      "\n",
      "CPU times: user 73.2 ms, sys: 3.76 ms, total: 77 ms\n",
      "Wall time: 918 ms\n"
     ]
    }
   ],
   "source": [
    "%%time\n",
    "# Sentiment of reviews -\n",
    "# One roundtrip to comprehend service for each review\n",
    "for i in range(15):\n",
    "    review = df.iloc[i]['review_headline'] + ' - ' + df.iloc[i]['review_body']\n",
    "    print(review)\n",
    "    sentiment = client.detect_sentiment(Text=review,LanguageCode='en')\n",
    "    print(sentiment['Sentiment'])\n",
    "    print()"
   ]
  },
  {
   "cell_type": "code",
   "execution_count": 27,
   "metadata": {},
   "outputs": [
    {
     "name": "stdout",
     "output_type": "stream",
     "text": [
      "CPU times: user 24 ms, sys: 0 ns, total: 24 ms\n",
      "Wall time: 222 ms\n"
     ]
    }
   ],
   "source": [
    "%%time\n",
    "\n",
    "# Batch Processing - Upto 25 reviews in one roundtrip\n",
    "results = []\n",
    "\n",
    "# Let's get sentiment for first 15 reviews\n",
    "review = list((df.iloc[0:15]['review_headline'] + ' - ' + df.iloc[0:15]['review_body'].str.slice(0,4000)).values)    \n",
    "#print(review)\n",
    "\n",
    "# initialize place holder for return values\n",
    "temp_results = ['']*len(review)\n",
    "\n",
    "sentiment = client.batch_detect_sentiment(TextList=review,LanguageCode='en')\n",
    "\n",
    "# Get the sentiment\n",
    "for s in sentiment['ResultList']:\n",
    "    #print(s['Index']+i,s['Sentiment'])\n",
    "    temp_results[s['Index']] = s['Sentiment']\n",
    "\n",
    "# Check for errors\n",
    "for s in sentiment['ErrorList']:\n",
    "    #print(s['Index']+i,s['ErrorCode'])    \n",
    "    temp_results[s['Index']] = s['ErrorCode']\n",
    "\n",
    "results.extend(temp_results)"
   ]
  },
  {
   "cell_type": "code",
   "execution_count": 28,
   "metadata": {},
   "outputs": [
    {
     "name": "stdout",
     "output_type": "stream",
     "text": [
      "If you need a new stove, this is a winner. - What a great stove.  What a wonderful replacement for my sort of antique.  Enjoy it every day.\n",
      "POSITIVE\n",
      "Five Stars - worked great\n",
      "POSITIVE\n",
      "Fast Shipping - Part exactly what I needed.  Saved by purchasing myself.\n",
      "POSITIVE\n",
      "Five Stars - Love my refrigerator! ! Keeps everything  cold..will recommend!\n",
      "POSITIVE\n",
      "Five Stars - No more running to the store for ice!  Works perfectly.\n",
      "POSITIVE\n",
      "Piece of Junk - It would not cool below 55 degrees and has now stopped working all together.  I would NOT recommend this piece of junk to anyone.\n",
      "NEGATIVE\n",
      "Works awesome for apt size 110 dryer - Works awesome for apt size 110 dryer. Handles load from apt size washer just fine. It does take longer to dry. Electric cost savings over a full size 220 is worth the time. Does not add much humidity unless lint filter is full.\n",
      "POSITIVE\n",
      "Five Stars - exactly what I wanted!\n",
      "POSITIVE\n",
      "Four Stars - AS advertised\n",
      "POSITIVE\n",
      "but has poor insulation in the top - It works as advertised, but has poor insulation in the top. Like the 3rd shelf, it comes in handy for small/short items.\n",
      "MIXED\n",
      "Two Stars - it's not worth 22 dollars, I've heard it became of some value just not that high.\n",
      "NEGATIVE\n",
      "Love it for camping - Wonderful! It spins the clothes out fast! We use this with the washing machine just like this in our camper. Great and saves money at the camp laundry.  Just wash spin and hang up.\n",
      "POSITIVE\n",
      "Four Stars - Did the job but didn't match the original gray wheels.\n",
      "MIXED\n",
      "Very well satisfied. - Arrived on time and exactly as described.  Fits my need perfectly.  Very well satisfied.\n",
      "POSITIVE\n",
      "Five Stars - Super\n",
      "POSITIVE\n"
     ]
    }
   ],
   "source": [
    "for idx, r in enumerate(review):\n",
    "    print(r)\n",
    "    print(results[idx])"
   ]
  },
  {
   "cell_type": "markdown",
   "metadata": {},
   "source": [
    "### Get Sentiment for All Reviews\n",
    "\n",
    "### Warning: Below code accumulated USD 65 in charges for around 100,000 reviews.  \n",
    "### Do not run this code as you will incur the charges.\n",
    "### I have commented the below cell\n",
    "### Use the file with sentiments that I generated : customer_reviews_with_sentiment_compressed.txt.gz "
   ]
  },
  {
   "cell_type": "raw",
   "metadata": {},
   "source": [
    "%%time\n",
    "# Batch Processing Upto 25 reviews in one round trip - 100,000 reviews in total\n",
    "# Get sentiment for all reviews (25 reviews at a time)\n",
    "step = 25\n",
    "results = []\n",
    "\n",
    "for i in range(0,df.shape[0],step):\n",
    "    print('***',i,i+step)\n",
    "    review = list((df.iloc[i:i+step]['review_headline'] + ' - ' + df.iloc[i:i+step]['review_body'].str.slice(0,4000)).values)    \n",
    "    #print(review)\n",
    "    \n",
    "    # initialize place holder for return values\n",
    "    temp_results = ['']*len(review)\n",
    "    \n",
    "    sentiment = client.batch_detect_sentiment(TextList=review,LanguageCode='en')\n",
    "    \n",
    "    # Get the sentiment\n",
    "    for s in sentiment['ResultList']:\n",
    "        #print(s['Index']+i,s['Sentiment'])\n",
    "        temp_results[s['Index']] = s['Sentiment']\n",
    "\n",
    "    # Check for errors\n",
    "    for s in sentiment['ErrorList']:\n",
    "        #print(s['Index']+i,s['ErrorCode'])    \n",
    "        temp_results[s['Index']] = s['ErrorCode']\n",
    "    \n",
    "    results.extend(temp_results)"
   ]
  },
  {
   "cell_type": "raw",
   "metadata": {},
   "source": [
    "# Add Sentiments to the data frame\n",
    "df['sentiment']=results"
   ]
  },
  {
   "cell_type": "raw",
   "metadata": {},
   "source": [
    "df.to_csv('customer_reviews_with_sentiment_compressed.txt.gz',index=False,header=True,compression='gzip',sep='\\t')"
   ]
  },
  {
   "cell_type": "markdown",
   "metadata": {},
   "source": [
    "### Copy the file to your bucket\n",
    "#### NOTE: Change the bucket name 'aws-glue-cl' to point to your bucket"
   ]
  },
  {
   "cell_type": "code",
   "execution_count": 30,
   "metadata": {},
   "outputs": [
    {
     "name": "stdout",
     "output_type": "stream",
     "text": [
      "upload: ./customer_reviews_with_sentiment_compressed.txt.gz to s3://aws-glue-cl/customer_review/customer_reviews_with_sentiment_compressed.txt.gz\n"
     ]
    }
   ],
   "source": [
    "!aws s3 cp customer_reviews_with_sentiment_compressed.txt.gz s3://aws-glue-cl/customer_review/customer_reviews_with_sentiment_compressed.txt.gz"
   ]
  },
  {
   "cell_type": "code",
   "execution_count": null,
   "metadata": {},
   "outputs": [],
   "source": []
  }
 ],
 "metadata": {
  "kernelspec": {
   "display_name": "conda_python3",
   "language": "python",
   "name": "conda_python3"
  },
  "language_info": {
   "codemirror_mode": {
    "name": "ipython",
    "version": 3
   },
   "file_extension": ".py",
   "mimetype": "text/x-python",
   "name": "python",
   "nbconvert_exporter": "python",
   "pygments_lexer": "ipython3",
   "version": "3.6.5"
  }
 },
 "nbformat": 4,
 "nbformat_minor": 1
}
